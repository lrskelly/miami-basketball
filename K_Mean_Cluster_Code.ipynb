{
  "nbformat": 4,
  "nbformat_minor": 0,
  "metadata": {
    "colab": {
      "provenance": []
    },
    "kernelspec": {
      "name": "ir",
      "display_name": "R"
    },
    "language_info": {
      "name": "R"
    }
  },
  "cells": [
    {
      "cell_type": "code",
      "execution_count": null,
      "metadata": {
        "id": "ASqclNfFeINe"
      },
      "outputs": [],
      "source": [
        "#read data file and import necessary libraries\n",
        "library(ggplot2)\n",
        "library(factoextra)\n",
        "library(readr)\n",
        "MAC_masterstats <- read_csv(\"Data/MAC_masterstats.csv\")\n",
        "\n",
        "str(MAC_masterstats)\n",
        "names(MAC_masterstats)"
      ]
    },
    {
      "cell_type": "code",
      "source": [
        "#create new columns for Turnovers per minute played, Total Rebounds per minute played, Assists per minute played, Steals per minute played, Points per minute played, and Blocks per minute played\n",
        "MAC_masterstats$TovPerMin <- round((MAC_masterstats$TOV / MAC_masterstats$MP), 3)\n",
        "MAC_masterstats$TRBPerMin <- round((MAC_masterstats$TRB / MAC_masterstats$MP), 3)\n",
        "MAC_masterstats$ASTPerMin <- round((MAC_masterstats$AST / MAC_masterstats$MP), 3)\n",
        "MAC_masterstats$STLPerMin <- round((MAC_masterstats$STL / MAC_masterstats$MP), 3)\n",
        "MAC_masterstats$BLKPerMin <- round((MAC_masterstats$BLK / MAC_masterstats$MP), 3)\n",
        "MAC_masterstats$PtsPerMin <- round((MAC_masterstats$PTS / MAC_masterstats$MP), 3)\n",
        "\n",
        "print(MAC_masterstats)"
      ],
      "metadata": {
        "id": "sYXrDdobe674"
      },
      "execution_count": null,
      "outputs": []
    },
    {
      "cell_type": "code",
      "source": [
        "#create new data frame with just the data used for the cluster analysis\n",
        "kClusterData <- MAC_masterstats[ , c(\"FG%\",\"3P%\",\"FT%\",\"PtsPerMin\",\"TRBPerMin\",\n",
        "                                \"ASTPerMin\",\"TovPerMin\",\"STLPerMin\",\"BLKPerMin\", \"Opp FG%\" )]"
      ],
      "metadata": {
        "id": "gYiSEkHVfZYe"
      },
      "execution_count": null,
      "outputs": []
    },
    {
      "cell_type": "code",
      "source": [
        "#scale the data\n",
        "kClusterData_scale <- scale(kClusterData)\n",
        "#distance\n",
        "kClusterData.dist <- dist(kClusterData_scale)"
      ],
      "metadata": {
        "id": "rJll1HrtfseH"
      },
      "execution_count": null,
      "outputs": []
    },
    {
      "cell_type": "code",
      "source": [
        "#calculate how many cluster to use\n",
        "# wss = within sum squared\n",
        "fviz_nbclust(kClusterData_scale, kmeans, method = \"wss\") + labs(subtitle = \"Elbow Method\")\n",
        "\n",
        "fviz_nbclust(kClusterData_scale, kmeans, method = \"silhouette\")\n",
        "\n",
        "fviz_nbclust(kClusterData_scale, kmeans, method = \"gap_stat\")"
      ],
      "metadata": {
        "id": "CtLyzDQYfutd"
      },
      "execution_count": null,
      "outputs": []
    },
    {
      "cell_type": "code",
      "source": [
        "#run k-mean cluster\n",
        "MAC_kmean <- kmeans(kClusterData_scale, centers = 5, iter.max = 100, nstart = 100)\n",
        "print(MAC_kmean)"
      ],
      "metadata": {
        "id": "-RwffvXef2Z_"
      },
      "execution_count": null,
      "outputs": []
    },
    {
      "cell_type": "code",
      "source": [
        "#visualize clusters\n",
        "fviz_cluster(MAC_kmean, data = kClusterData_scale, geom = \"point\")"
      ],
      "metadata": {
        "id": "F-Cu5ZcQf7h4"
      },
      "execution_count": null,
      "outputs": []
    },
    {
      "cell_type": "code",
      "source": [
        "#add cluster assignment to kClusterData\n",
        "kClusterData$Cluster <- MAC_kmean$cluster\n",
        "\n",
        "\n",
        "#add cluster assignment to master data set\n",
        "MAC_masterstats$Cluster <- MAC_kmean$cluster\n",
        "head(MAC_masterstats)"
      ],
      "metadata": {
        "id": "JFnHXgPNf_tl"
      },
      "execution_count": null,
      "outputs": []
    }
  ]
}